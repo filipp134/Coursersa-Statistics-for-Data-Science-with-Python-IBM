{
    "cells": [
        {
            "metadata": {
                "collapsed": true
            },
            "cell_type": "markdown",
            "source": "## Descriptive Statistic\n\nHere is a quick review of some popular functions:\n\n1. To find the average of the data, we use the mean() function\n2. To find the median of the data, we use the median() function\n3. To find the mode of the data, we use the mode() function\n4. To find the variance of the data, we use the variance() function\n5. To find the standard deviation of the data, we use the stdev() function\n6. To get the unique values in a dataset, we use the unique(). unique() prints out the values and nunique() prints out the number of unique values.\n\n## Data Visualization\n\nOne of the most popular visualization tools is the seaborn library. It is a Python Data visualization library that is based on matplotlib. To get access to functions in the seaborn library or any library, you must first import the library. To import the seaborn library: import seaborn.\nHere is a quick summary for creating graphs and plots:\n1. Barplots: A barplot shows the relationship between a numeric and a categorical variable by plotting the categorical variables as bars in correspondence to the numerical variable. In the seaborn library, barplots are created by using the barplot() function. The following code ax = seaborn.barplot(x=\"division\", y=\"eval\", data=division_eval) will return a barplot that shows the average evaluation scores for the lower-division and upper-division.\n2. Scatterplots: This is a two-dimensional plot that displays the relationship between two continuous data. Scatter plots are created by using the scatterplot() function in the seaborn library. The following code: ax = seaborn.scatterplot(x='age', y='eval', hue='gender', data=ratings_df) will return a plot that shows the relationship between age and evaluation scores:\n3. Boxplots: A boxplot is a way of displaying the distribution of the data. It returns the minimum, first quartile, median, third quartile, and maximum values of the data. We use the boxplot() function in the seaborn library. This code ax = seaborn.boxplot(y='beauty', data=ratings_df) will return a boxplot with the data distribution for beauty. We can make the boxplots horizontal by specifying x='beauty' in the argument.\n4. "
        },
        {
            "metadata": {},
            "cell_type": "code",
            "source": "",
            "execution_count": null,
            "outputs": []
        }
    ],
    "metadata": {
        "kernelspec": {
            "name": "python3",
            "display_name": "Python 3.7",
            "language": "python"
        },
        "language_info": {
            "name": "python",
            "version": "3.7.10",
            "mimetype": "text/x-python",
            "codemirror_mode": {
                "name": "ipython",
                "version": 3
            },
            "pygments_lexer": "ipython3",
            "nbconvert_exporter": "python",
            "file_extension": ".py"
        }
    },
    "nbformat": 4,
    "nbformat_minor": 1
}